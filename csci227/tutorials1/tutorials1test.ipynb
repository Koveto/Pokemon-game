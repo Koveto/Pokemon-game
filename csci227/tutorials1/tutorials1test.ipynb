{
 "cells": [
  {
   "cell_type": "code",
   "execution_count": 4,
   "metadata": {
    "dotnet_interactive": {
     "language": "csharp"
    },
    "polyglot_notebook": {
     "kernelName": "csharp"
    }
   },
   "outputs": [],
   "source": [
    "# 2-13 input.py\n",
    "\n",
    "# Get the user's name, age, and income.\n",
    "name = input('What is your name? ')\n",
    "age  = int(input('What is your age? '))\n",
    "income = float(input('What is your income? '))"
   ]
  },
  {
   "cell_type": "code",
   "execution_count": 5,
   "metadata": {},
   "outputs": [
    {
     "name": "stdout",
     "output_type": "stream",
     "text": [
      "Here is the data you entered:\n",
      "Name: Kobe\n",
      "Age: 20\n",
      "Income: 30.0\n"
     ]
    }
   ],
   "source": [
    "# Display the data\n",
    "print('Here is the data you entered:')\n",
    "print('Name:',name)\n",
    "print('Age:',age)\n",
    "print('Income:',income)"
   ]
  },
  {
   "cell_type": "code",
   "execution_count": 6,
   "metadata": {},
   "outputs": [
    {
     "name": "stdout",
     "output_type": "stream",
     "text": [
      "The sale price is 40.0\n"
     ]
    }
   ],
   "source": [
    "# 2-15 sale_price.py\n",
    "\n",
    "# This program gets an item's original price and\n",
    "# calculates its sale price, with a 20% discount.\n",
    "\n",
    "# Get the item's original price\n",
    "original_price = float(input(\"Enter the item's original price: \"))\n",
    "\n",
    "# Calculate the amount of the discount\n",
    "discount = original_price * 0.2\n",
    "\n",
    "# Calculate the sale price\n",
    "sale_price = original_price - discount\n",
    "\n",
    "# Display the sale price\n",
    "print('The sale price is',sale_price)"
   ]
  },
  {
   "cell_type": "code",
   "execution_count": 8,
   "metadata": {},
   "outputs": [
    {
     "name": "stdout",
     "output_type": "stream",
     "text": [
      "The average score is 70.0.\n"
     ]
    }
   ],
   "source": [
    "# 3-1 test_average.py\n",
    "\n",
    "# This program gets three test scores and displays\n",
    "# their average. It congratulates the user if the\n",
    "# average is a high score.\n",
    "\n",
    "# The HIGH_SCORE named constant holds the value that is\n",
    "# considered a high score.\n",
    "HIGH_SCORE = 95\n",
    "\n",
    "# Get the three test scores.\n",
    "test1 = int(input('Enter the score for test 1: '))\n",
    "test2 = int(input('Enter the score for test 2: '))\n",
    "test3 = int(input('Enter the score for test 3: '))\n",
    "\n",
    "# Calculate the average test score.\n",
    "average = (test1 + test2 + test3) / 3\n",
    "\n",
    "# Print the average\n",
    "print(f'The average score is {average}.')"
   ]
  },
  {
   "cell_type": "code",
   "execution_count": 9,
   "metadata": {},
   "outputs": [
    {
     "name": "stdout",
     "output_type": "stream",
     "text": [
      "The gross pay is $600.00.\n"
     ]
    }
   ],
   "source": [
    "# 3-2 auto_repair_payroll.py\n",
    "\n",
    "# Named constants to represent the base hours and\n",
    "# the overtime multiplier.\n",
    "BASE_HOURS = 40             # Base hours per week\n",
    "OT_MULTIPLIER = 1.5         # Overtime multiplier\n",
    "\n",
    "# Get the hours worked and the hourly pay rate.\n",
    "hours = float(input('Enter the number of hours worked: '))\n",
    "pay_rate = float(input('Enter the hourly pay rate: '))\n",
    "\n",
    "# Calculate and display the gross pay.\n",
    "if hours > BASE_HOURS:\n",
    "    # Calculate the gross pay with overtime.\n",
    "    # First, get the number of overtime hours worked.\n",
    "    overtime_hours = hours - BASE_HOURS\n",
    "\n",
    "    # Calculate the amount of overtime pay.\n",
    "    overtime_pay =  overtime_hours * pay_rate * OT_MULTIPLIER\n",
    "\n",
    "    # Calculate the gross pay.\n",
    "    gross_pay = BASE_HOURS * pay_rate + overtime_pay\n",
    "else:\n",
    "    # Calculate the gross pay without overtime.\n",
    "    gross_pay = hours * pay_rate\n",
    "\n",
    "# Display the gross pay.\n",
    "print(f'The gross pay is ${gross_pay:,.2f}.')"
   ]
  },
  {
   "cell_type": "code",
   "execution_count": 10,
   "metadata": {},
   "outputs": [
    {
     "name": "stdout",
     "output_type": "stream",
     "text": [
      "Here are the names, listed alphabetically.\n",
      "Goodwin Kob\n",
      "Heidorn Alex\n"
     ]
    }
   ],
   "source": [
    "# 3-4 sort_names.py\n",
    "\n",
    "# This program compares strings with the < operator.\n",
    "\n",
    "# Get two names from the user.\n",
    "name1 = input('Enter a name (last name first): ')\n",
    "name2 = input('Enter another name (last name first): ')\n",
    "\n",
    "# Display the names in alphabetical order.\n",
    "print('Here are the names, listed alphabetically.')\n",
    "\n",
    "if name1 < name2:\n",
    "    print(name1)\n",
    "    print(name2)\n",
    "else:\n",
    "    print(name2)\n",
    "    print(name1)"
   ]
  },
  {
   "cell_type": "code",
   "execution_count": 11,
   "metadata": {},
   "outputs": [
    {
     "name": "stdout",
     "output_type": "stream",
     "text": [
      "You qualify for the loan.\n"
     ]
    }
   ],
   "source": [
    "# 3-5 loan_qualifier.py\n",
    "\n",
    "# This program determines whether a bank customer\n",
    "# qualifies for a loan.\n",
    "\n",
    "MIN_SALARY = 30000.0    # the minimum annual salary\n",
    "MIN_YEARS = 2           # the minimum years on the job\n",
    "\n",
    "# Get the customer's annual salary.\n",
    "salary = float(input('Enter your annual salary: '))\n",
    "\n",
    "# Get the number of years on the current job.\n",
    "years_on_job = int(input('Enter the number of years employed: '))\n",
    "\n",
    "# Determine whether the customer qualifies.\n",
    "if salary >= MIN_SALARY:\n",
    "    if years_on_job >= MIN_YEARS:\n",
    "        print('You qualify for the loan.')\n",
    "    else:\n",
    "        print(f'You must have been employed '\n",
    "              f'for at least {MIN_YEARS} '\n",
    "              f'years to qualify.')\n",
    "else:\n",
    "    print(f'You must earn at least $'\n",
    "          f'{MIN_SALARY:,.2f} '\n",
    "          f'per year to qualify.')"
   ]
  },
  {
   "cell_type": "code",
   "execution_count": 12,
   "metadata": {},
   "outputs": [
    {
     "name": "stdout",
     "output_type": "stream",
     "text": [
      "Your grade is D.\n"
     ]
    }
   ],
   "source": [
    "# 3-6 grader.py\n",
    "\n",
    "# This program gets a numeric test score from the\n",
    "# user and displays the corresponding letter grade.\n",
    "\n",
    "# Named constants to represent the grade thresholds\n",
    "A_SCORE = 90\n",
    "B_SCORE = 80\n",
    "C_SCORE = 70\n",
    "D_SCORE = 60\n",
    "\n",
    "# Get a test score from the user.\n",
    "score = int(input('Enter your test score: '))\n",
    "\n",
    "# Determine the grade\n",
    "if score >= A_SCORE:\n",
    "    print('Your grade is A.')\n",
    "else:\n",
    "    if score >= B_SCORE:\n",
    "        print('Your grade is B.')\n",
    "    else:\n",
    "        if score >= C_SCORE:\n",
    "            print('Your grade is C.')\n",
    "        else:\n",
    "            if score >= D_SCORE:\n",
    "                print('Your grade is D.')\n",
    "            else:\n",
    "                print('Your grade is F.')\n",
    "\n"
   ]
  }
 ],
 "metadata": {
  "kernelspec": {
   "display_name": "eleven",
   "language": "python",
   "name": "python3"
  },
  "language_info": {
   "codemirror_mode": {
    "name": "ipython",
    "version": 3
   },
   "file_extension": ".py",
   "mimetype": "text/x-python",
   "name": "python",
   "nbconvert_exporter": "python",
   "pygments_lexer": "ipython3",
   "version": "3.11.4"
  },
  "orig_nbformat": 4,
  "polyglot_notebook": {
   "kernelInfo": {
    "defaultKernelName": "csharp",
    "items": [
     {
      "aliases": [],
      "name": "csharp"
     }
    ]
   }
  }
 },
 "nbformat": 4,
 "nbformat_minor": 2
}
